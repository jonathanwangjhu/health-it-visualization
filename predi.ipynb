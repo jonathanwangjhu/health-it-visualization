{
 "cells": [
  {
   "cell_type": "code",
   "execution_count": 5,
   "metadata": {},
   "outputs": [
    {
     "name": "stdout",
     "output_type": "stream",
     "text": [
      "<module 'pandas' from 'C:\\\\Users\\\\dfran\\\\Anaconda\\\\lib\\\\site-packages\\\\pandas\\\\__init__.py'>\n"
     ]
    }
   ],
   "source": [
    "import pandas as pd\n",
    "print(pd)\n",
    "\n"
   ]
  },
  {
   "cell_type": "code",
   "execution_count": 6,
   "metadata": {},
   "outputs": [
    {
     "data": {
      "text/plain": [
       "(3900, 6)"
      ]
     },
     "execution_count": 6,
     "metadata": {},
     "output_type": "execute_result"
    }
   ],
   "source": [
    "data = pd.read_csv('patients.csv', index_col=0, na_values=(\" \",\"  \",\"   \",\"    \",\"     \"), low_memory=False)\n",
    "data.columns = data.columns.str.strip()\n",
    "# print first 10 rows\n",
    "data.shape"
   ]
  },
  {
   "cell_type": "code",
   "execution_count": 7,
   "metadata": {},
   "outputs": [
    {
     "data": {
      "text/html": [
       "<div>\n",
       "<style scoped>\n",
       "    .dataframe tbody tr th:only-of-type {\n",
       "        vertical-align: middle;\n",
       "    }\n",
       "\n",
       "    .dataframe tbody tr th {\n",
       "        vertical-align: top;\n",
       "    }\n",
       "\n",
       "    .dataframe thead th {\n",
       "        text-align: right;\n",
       "    }\n",
       "</style>\n",
       "<table border=\"1\" class=\"dataframe\">\n",
       "  <thead>\n",
       "    <tr style=\"text-align: right;\">\n",
       "      <th></th>\n",
       "      <th>PATIENT_ID</th>\n",
       "      <th>INSURANCE</th>\n",
       "      <th>RACE</th>\n",
       "      <th>LANGUAGE</th>\n",
       "      <th>MARITAL</th>\n",
       "      <th>LOS</th>\n",
       "      <th>ins</th>\n",
       "      <th>mar</th>\n",
       "      <th>lang</th>\n",
       "      <th>race</th>\n",
       "    </tr>\n",
       "  </thead>\n",
       "  <tbody>\n",
       "    <tr>\n",
       "      <th>0</th>\n",
       "      <td>2</td>\n",
       "      <td>Private</td>\n",
       "      <td>ASIAN</td>\n",
       "      <td>NaN</td>\n",
       "      <td>NaN</td>\n",
       "      <td>4</td>\n",
       "      <td>Private</td>\n",
       "      <td>NaN</td>\n",
       "      <td>NaN</td>\n",
       "      <td>ASIAN</td>\n",
       "    </tr>\n",
       "    <tr>\n",
       "      <th>1</th>\n",
       "      <td>3</td>\n",
       "      <td>Medicare</td>\n",
       "      <td>WHITE</td>\n",
       "      <td>NaN</td>\n",
       "      <td>MARRIED</td>\n",
       "      <td>11</td>\n",
       "      <td>Medicare</td>\n",
       "      <td>MARRIED</td>\n",
       "      <td>NaN</td>\n",
       "      <td>WHITE</td>\n",
       "    </tr>\n",
       "    <tr>\n",
       "      <th>2</th>\n",
       "      <td>4</td>\n",
       "      <td>Private</td>\n",
       "      <td>WHITE</td>\n",
       "      <td>NaN</td>\n",
       "      <td>SINGLE</td>\n",
       "      <td>7</td>\n",
       "      <td>Private</td>\n",
       "      <td>SINGLE</td>\n",
       "      <td>NaN</td>\n",
       "      <td>WHITE</td>\n",
       "    </tr>\n",
       "    <tr>\n",
       "      <th>3</th>\n",
       "      <td>5</td>\n",
       "      <td>Private</td>\n",
       "      <td>ASIAN</td>\n",
       "      <td>NaN</td>\n",
       "      <td>NaN</td>\n",
       "      <td>2</td>\n",
       "      <td>Private</td>\n",
       "      <td>NaN</td>\n",
       "      <td>NaN</td>\n",
       "      <td>ASIAN</td>\n",
       "    </tr>\n",
       "    <tr>\n",
       "      <th>4</th>\n",
       "      <td>6</td>\n",
       "      <td>Medicare</td>\n",
       "      <td>WHITE</td>\n",
       "      <td>ENGL</td>\n",
       "      <td>MARRIED</td>\n",
       "      <td>16</td>\n",
       "      <td>Medicare</td>\n",
       "      <td>MARRIED</td>\n",
       "      <td>ENGL</td>\n",
       "      <td>WHITE</td>\n",
       "    </tr>\n",
       "  </tbody>\n",
       "</table>\n",
       "</div>"
      ],
      "text/plain": [
       "   PATIENT_ID INSURANCE   RACE LANGUAGE  MARITAL  LOS       ins      mar  \\\n",
       "0           2   Private  ASIAN      NaN      NaN    4   Private      NaN   \n",
       "1           3  Medicare  WHITE      NaN  MARRIED   11  Medicare  MARRIED   \n",
       "2           4   Private  WHITE      NaN   SINGLE    7   Private   SINGLE   \n",
       "3           5   Private  ASIAN      NaN      NaN    2   Private      NaN   \n",
       "4           6  Medicare  WHITE     ENGL  MARRIED   16  Medicare  MARRIED   \n",
       "\n",
       "   lang   race  \n",
       "0   NaN  ASIAN  \n",
       "1   NaN  WHITE  \n",
       "2   NaN  WHITE  \n",
       "3   NaN  ASIAN  \n",
       "4  ENGL  WHITE  "
      ]
     },
     "execution_count": 7,
     "metadata": {},
     "output_type": "execute_result"
    }
   ],
   "source": [
    "data['ins'] = data['INSURANCE']\n",
    "data['mar'] = data['MARITAL']\n",
    "data['lang'] = data['LANGUAGE']\n",
    "data['race'] = data['RACE']\n",
    "data.head()"
   ]
  },
  {
   "cell_type": "code",
   "execution_count": 8,
   "metadata": {},
   "outputs": [
    {
     "name": "stdout",
     "output_type": "stream",
     "text": [
      "['Private', 'Medicare', 'Medicaid', 'Government', 'Self Pay']\n",
      "['ASIAN', 'WHITE', 'UNKNOWN/NOT SPECIFIED', 'BLACK/AFRICAN AMERICAN', 'PATIENT DECLINED TO ANSWER', 'OTHER', 'HISPANIC OR LATINO', 'HISPANIC/LATINO - GUATEMALAN', 'HISPANIC/LATINO - PUERTO RICAN', 'ASIAN - ASIAN INDIAN', 'ASIAN - VIETNAMESE', 'MULTI RACE ETHNICITY', 'HISPANIC/LATINO - DOMINICAN', 'AMERICAN INDIAN/ALASKA NATIVE', 'WHITE - RUSSIAN', 'HISPANIC/LATINO - SALVADORAN', 'ASIAN - CHINESE', 'UNABLE TO OBTAIN', 'BLACK/CAPE VERDEAN', 'WHITE - OTHER EUROPEAN', 'PORTUGUESE', 'BLACK/HAITIAN', 'SOUTH AMERICAN']\n",
      "['ENGL', 'MAND', 'CANT', 'SPAN', 'GREE', 'CAMB', '*ARM', 'HAIT', 'RUSS', 'CAPE', 'PORT', '*MAN', 'VIET', 'ITAL', 'HIND', 'PTUN', '*CHI', 'ALBA', 'ARAB', 'POLI', 'FREN', 'AMER', 'LAOT', '*URD', '*PUN', '*BUR', '*BEN']\n",
      "['MARRIED', 'SINGLE', 'WIDOWED', 'DIVORCED', 'SEPARATED', 'UNKNOWN (DEFAULT)']\n"
     ]
    }
   ],
   "source": [
    "ins_type = data.INSURANCE.unique().tolist()\n",
    "ins_type = [x for x in ins_type if str(x) != 'nan']\n",
    "print(ins_type)\n",
    "\n",
    "race_type = data.RACE.unique().tolist()\n",
    "race_type = [x for x in race_type if str(x) != 'nan']\n",
    "print(race_type)\n",
    "lang_type = data.LANGUAGE.unique().tolist()\n",
    "lang_type = [x for x in lang_type if str(x) != 'nan']\n",
    "print(lang_type)\n",
    "mar_type = data.MARITAL.unique().tolist()\n",
    "mar_type = [x for x in mar_type if str(x) != 'nan']\n",
    "print(mar_type)"
   ]
  },
  {
   "cell_type": "code",
   "execution_count": 9,
   "metadata": {},
   "outputs": [],
   "source": [
    "new_data = data.copy()\n",
    "\n",
    "#we are doing this the long way \n",
    "ins_dict= {}\n",
    "race_dict = {}\n",
    "lang_dict = {}\n",
    "mar_dict = {}\n",
    "for i in range(len(ins_type)):\n",
    "    ins_dict[ins_type[i]] = i; \n",
    "for i in range(len(race_type)):\n",
    "    race_dict[race_type[i]] = i; \n",
    "for i in range(len(lang_type)):\n",
    "    lang_dict[lang_type[i]] = i; \n",
    "for i in range(len(mar_type)):\n",
    "    mar_dict[mar_type[i]] = i; \n",
    "\n",
    "new_data.ins = [ins_dict[item] for item in new_data.ins]\n",
    "new_data.race = [race_dict[item] for item in new_data.race]\n",
    "#new_data.lang = [lang_dict[item] for item in new_data.lang]\n",
    "#new_data.mar = [mar_dict[item] for item in new_data.mar]\n",
    "\n",
    "for index, row in new_data.iterrows():\n",
    "    if(str(row['mar']) == 'nan' and str(row['lang']) == 'nan'):\n",
    "        continue \n",
    "    elif(str(row['lang']) == 'nan' and  not(str(row['mar']) == 'nan')):\n",
    "        new_data.at[index, 'mar'] = mar_dict[row['mar']]\n",
    "        continue \n",
    "    if(not(str(row['lang']) == 'nan') and str(row['mar']) == 'nan'):\n",
    "        new_data.at[index, 'lang'] = lang_dict[row['lang']]\n",
    "        continue \n",
    "    new_data.at[index, 'mar'] = mar_dict[row['mar']]\n",
    "    new_data.at[index, 'lang'] = lang_dict[row['lang']]\n",
    "\n",
    "sub_data = new_data.drop(columns = ['INSURANCE','RACE', 'LANGUAGE', 'MARITAL'])\n",
    "sub_data.head()\n",
    "\n",
    "cols = list(sub_data.columns.values)\n",
    "\n"
   ]
  },
  {
   "cell_type": "code",
   "execution_count": 10,
   "metadata": {},
   "outputs": [
    {
     "name": "stderr",
     "output_type": "stream",
     "text": [
      "C:\\Users\\dfran\\Anaconda\\lib\\site-packages\\sklearn\\utils\\deprecation.py:58: DeprecationWarning: Class Imputer is deprecated; Imputer was deprecated in version 0.20 and will be removed in 0.22. Import impute.SimpleImputer from sklearn instead.\n",
      "  warnings.warn(msg, category=DeprecationWarning)\n"
     ]
    },
    {
     "data": {
      "text/html": [
       "<div>\n",
       "<style scoped>\n",
       "    .dataframe tbody tr th:only-of-type {\n",
       "        vertical-align: middle;\n",
       "    }\n",
       "\n",
       "    .dataframe tbody tr th {\n",
       "        vertical-align: top;\n",
       "    }\n",
       "\n",
       "    .dataframe thead th {\n",
       "        text-align: right;\n",
       "    }\n",
       "</style>\n",
       "<table border=\"1\" class=\"dataframe\">\n",
       "  <thead>\n",
       "    <tr style=\"text-align: right;\">\n",
       "      <th></th>\n",
       "      <th>PATIENT_ID</th>\n",
       "      <th>LOS</th>\n",
       "      <th>ins</th>\n",
       "      <th>mar</th>\n",
       "      <th>lang</th>\n",
       "      <th>race</th>\n",
       "    </tr>\n",
       "  </thead>\n",
       "  <tbody>\n",
       "    <tr>\n",
       "      <th>0</th>\n",
       "      <td>2.0</td>\n",
       "      <td>4.0</td>\n",
       "      <td>0.0</td>\n",
       "      <td>0.848897</td>\n",
       "      <td>2.318117</td>\n",
       "      <td>0.0</td>\n",
       "    </tr>\n",
       "    <tr>\n",
       "      <th>1</th>\n",
       "      <td>3.0</td>\n",
       "      <td>11.0</td>\n",
       "      <td>1.0</td>\n",
       "      <td>0.000000</td>\n",
       "      <td>2.318117</td>\n",
       "      <td>1.0</td>\n",
       "    </tr>\n",
       "    <tr>\n",
       "      <th>2</th>\n",
       "      <td>4.0</td>\n",
       "      <td>7.0</td>\n",
       "      <td>0.0</td>\n",
       "      <td>1.000000</td>\n",
       "      <td>2.318117</td>\n",
       "      <td>1.0</td>\n",
       "    </tr>\n",
       "    <tr>\n",
       "      <th>3</th>\n",
       "      <td>5.0</td>\n",
       "      <td>2.0</td>\n",
       "      <td>0.0</td>\n",
       "      <td>0.848897</td>\n",
       "      <td>2.318117</td>\n",
       "      <td>0.0</td>\n",
       "    </tr>\n",
       "    <tr>\n",
       "      <th>4</th>\n",
       "      <td>6.0</td>\n",
       "      <td>16.0</td>\n",
       "      <td>1.0</td>\n",
       "      <td>0.000000</td>\n",
       "      <td>0.000000</td>\n",
       "      <td>1.0</td>\n",
       "    </tr>\n",
       "  </tbody>\n",
       "</table>\n",
       "</div>"
      ],
      "text/plain": [
       "   PATIENT_ID   LOS  ins       mar      lang  race\n",
       "0         2.0   4.0  0.0  0.848897  2.318117   0.0\n",
       "1         3.0  11.0  1.0  0.000000  2.318117   1.0\n",
       "2         4.0   7.0  0.0  1.000000  2.318117   1.0\n",
       "3         5.0   2.0  0.0  0.848897  2.318117   0.0\n",
       "4         6.0  16.0  1.0  0.000000  0.000000   1.0"
      ]
     },
     "execution_count": 10,
     "metadata": {},
     "output_type": "execute_result"
    }
   ],
   "source": [
    "from sklearn.preprocessing import Imputer\n",
    "\n",
    "imp = Imputer(missing_values='NaN', strategy='mean', axis=0)\n",
    "imp.fit(sub_data)\n",
    "imp_data = pd.DataFrame(imp.transform(sub_data.values))\n",
    "#cols = ['EOD10_EX', 'EOD10_PN','EOD10_NE', 'RADIATN', 'GRADE','SEQ_NUM', 'RAC_RECA', 'AGE_DX', 'srv_time_mon', 'alive']\n",
    "imp_data.columns = cols\n",
    "imp_data.head()"
   ]
  },
  {
   "cell_type": "code",
   "execution_count": 11,
   "metadata": {},
   "outputs": [],
   "source": [
    "to_split =  imp_data\n",
    "test_data = to_split.iloc[:3000, :]\n",
    "train_data = to_split.iloc[3000:, :]\n",
    "\n",
    "X_test  = test_data.iloc[:, 2:]\n",
    "X_train =  train_data.iloc[:, 2:]\n",
    "\n",
    "y1_train = train_data.iloc[:, 1:2]# YOUR CODE HERE\n",
    "y1_test  = test_data.iloc[:, 1:2]# YOUR CODE HERE\n"
   ]
  },
  {
   "cell_type": "code",
   "execution_count": 12,
   "metadata": {},
   "outputs": [
    {
     "name": "stdout",
     "output_type": "stream",
     "text": [
      "Coefficients: \n",
      " [[ 0.46761419  0.33009392 -0.07575373 -0.04153496]]\n",
      "Variance score: -0.00\n",
      "[10.07758311]\n",
      "[[ 0.46761419  0.33009392 -0.07575373 -0.04153496]]\n"
     ]
    }
   ],
   "source": [
    "import matplotlib.pyplot as plt\n",
    "\n",
    "from sklearn import datasets, linear_model\n",
    "from sklearn.metrics import mean_squared_error, r2_score\n",
    "regr = linear_model.LinearRegression()\n",
    "\n",
    "# Train the model using the training sets\n",
    "regr.fit(X_train, y1_train)\n",
    "\n",
    "# Make predictions using the testing set\n",
    "y1_pred = regr.predict(X_test)\n",
    "# The coefficients\n",
    "print('Coefficients: \\n', regr.coef_)\n",
    "# The mean squared error\n",
    "\n",
    "# Explained variance score: 1 is perfect prediction\n",
    "print('Variance score: %.2f' % r2_score(y1_test, y1_pred))\n",
    "\n",
    "#Print the intercept and coefficients of the resulting model.\n",
    "print (regr.intercept_)\n",
    "print (regr.coef_)"
   ]
  },
  {
   "cell_type": "code",
   "execution_count": 13,
   "metadata": {},
   "outputs": [
    {
     "name": "stdout",
     "output_type": "stream",
     "text": [
      "Mean squared error: 211.86\n",
      "root mean squared error: 14.56\n"
     ]
    }
   ],
   "source": [
    "from math import sqrt\n",
    "from sklearn.metrics import mean_squared_error, r2_score\n",
    "print(\"Mean squared error: %.2f\"\n",
    "      % mean_squared_error(y1_test, y1_pred))\n",
    "print(\"root mean squared error: %.2f\"\n",
    "      % sqrt(mean_squared_error(y1_test, y1_pred)))"
   ]
  },
  {
   "cell_type": "code",
   "execution_count": null,
   "metadata": {},
   "outputs": [],
   "source": []
  },
  {
   "cell_type": "code",
   "execution_count": null,
   "metadata": {},
   "outputs": [],
   "source": []
  },
  {
   "cell_type": "code",
   "execution_count": null,
   "metadata": {},
   "outputs": [],
   "source": []
  }
 ],
 "metadata": {
  "kernelspec": {
   "display_name": "Python 3",
   "language": "python",
   "name": "python3"
  },
  "language_info": {
   "codemirror_mode": {
    "name": "ipython",
    "version": 3
   },
   "file_extension": ".py",
   "mimetype": "text/x-python",
   "name": "python",
   "nbconvert_exporter": "python",
   "pygments_lexer": "ipython3",
   "version": "3.7.3"
  }
 },
 "nbformat": 4,
 "nbformat_minor": 2
}
